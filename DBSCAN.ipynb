{
  "nbformat": 4,
  "nbformat_minor": 0,
  "metadata": {
    "colab": {
      "name": "DBSCAN",
      "provenance": [],
      "authorship_tag": "ABX9TyMoxJL8UIY8vf8j8FDTMg04",
      "include_colab_link": true
    },
    "kernelspec": {
      "name": "python3",
      "display_name": "Python 3"
    },
    "language_info": {
      "name": "python"
    }
  },
  "cells": [
    {
      "cell_type": "markdown",
      "metadata": {
        "id": "view-in-github",
        "colab_type": "text"
      },
      "source": [
        "<a href=\"https://colab.research.google.com/github/Lefantro/Non-Supervised-Learning/blob/main/DBSCAN.ipynb\" target=\"_parent\"><img src=\"https://colab.research.google.com/assets/colab-badge.svg\" alt=\"Open In Colab\"/></a>"
      ]
    },
    {
      "cell_type": "code",
      "execution_count": null,
      "metadata": {
        "id": "smaoA2m5Qto8"
      },
      "outputs": [],
      "source": [
        "import pandas as pd\n",
        "import numpy as np\n",
        "from random import seed, randint\n",
        "\n",
        "points=pd.DataFrame({\n",
        "    #index         0   1   2   3   4   5   6   7   8   9  10  11  12  13  14  15  16  17  18  19  \n",
        "    'name':      ['A','B','C','D','E','F','G','H','I','J','K','L','M','N','O','P','Q','R','S','T'],\n",
        "    'x':         [ 1,  2,  1,  2,  3,  3,  3,  4,  4,  5,  7, 10, 10,  9,  10, 11, 9, 10, 11, 10],\n",
        "    'y':         [ 1,  1,  2,  2,  5,  9, 10, 10, 11, 10, 10,  9,  6,  5,   5,  5, 4,  4,  4,  3],\n",
        "    'cluster':   [ 0]*20, #cp=core point assigned\n",
        "    'type':      ['noise']*20, #type of point with 0 = undefined, 1 = border point, 2 = core point, 3 = noise\n",
        "    'pas':      [0]*20\n",
        "})\n"
      ]
    },
    {
      "cell_type": "code",
      "source": [
        "def L1(c, a):\n",
        "    return abs(c.x-a.x)+abs(c.y-a.y)"
      ],
      "metadata": {
        "id": "vsxQowp0XaLK"
      },
      "execution_count": null,
      "outputs": []
    },
    {
      "cell_type": "code",
      "source": [
        "dist=np.zeros((len(points), len(points)))\n",
        "#distances between points\n",
        "for i in range(len(points)):\n",
        "  for j in range(len(points)):\n",
        "    dist[i,j]=L1(points.iloc[i], points.iloc[j])\n",
        "    #dist[j,i]= 88\n",
        "     #L1(points.iloc[i], points.iloc[j])\n",
        "print (dist)"
      ],
      "metadata": {
        "colab": {
          "base_uri": "https://localhost:8080/"
        },
        "id": "AsOWi2KneXVA",
        "outputId": "92d4caaa-bf46-40ac-bef2-e242751ca398"
      },
      "execution_count": null,
      "outputs": [
        {
          "output_type": "stream",
          "name": "stdout",
          "text": [
            "[[ 0.  1.  1.  2.  6. 10. 11. 12. 13. 13. 15. 17. 14. 12. 13. 14. 11. 12.\n",
            "  13. 11.]\n",
            " [ 1.  0.  2.  1.  5.  9. 10. 11. 12. 12. 14. 16. 13. 11. 12. 13. 10. 11.\n",
            "  12. 10.]\n",
            " [ 1.  2.  0.  1.  5.  9. 10. 11. 12. 12. 14. 16. 13. 11. 12. 13. 10. 11.\n",
            "  12. 10.]\n",
            " [ 2.  1.  1.  0.  4.  8.  9. 10. 11. 11. 13. 15. 12. 10. 11. 12.  9. 10.\n",
            "  11.  9.]\n",
            " [ 6.  5.  5.  4.  0.  4.  5.  6.  7.  7.  9. 11.  8.  6.  7.  8.  7.  8.\n",
            "   9.  9.]\n",
            " [10.  9.  9.  8.  4.  0.  1.  2.  3.  3.  5.  7. 10. 10. 11. 12. 11. 12.\n",
            "  13. 13.]\n",
            " [11. 10. 10.  9.  5.  1.  0.  1.  2.  2.  4.  8. 11. 11. 12. 13. 12. 13.\n",
            "  14. 14.]\n",
            " [12. 11. 11. 10.  6.  2.  1.  0.  1.  1.  3.  7. 10. 10. 11. 12. 11. 12.\n",
            "  13. 13.]\n",
            " [13. 12. 12. 11.  7.  3.  2.  1.  0.  2.  4.  8. 11. 11. 12. 13. 12. 13.\n",
            "  14. 14.]\n",
            " [13. 12. 12. 11.  7.  3.  2.  1.  2.  0.  2.  6.  9.  9. 10. 11. 10. 11.\n",
            "  12. 12.]\n",
            " [15. 14. 14. 13.  9.  5.  4.  3.  4.  2.  0.  4.  7.  7.  8.  9.  8.  9.\n",
            "  10. 10.]\n",
            " [17. 16. 16. 15. 11.  7.  8.  7.  8.  6.  4.  0.  3.  5.  4.  5.  6.  5.\n",
            "   6.  6.]\n",
            " [14. 13. 13. 12.  8. 10. 11. 10. 11.  9.  7.  3.  0.  2.  1.  2.  3.  2.\n",
            "   3.  3.]\n",
            " [12. 11. 11. 10.  6. 10. 11. 10. 11.  9.  7.  5.  2.  0.  1.  2.  1.  2.\n",
            "   3.  3.]\n",
            " [13. 12. 12. 11.  7. 11. 12. 11. 12. 10.  8.  4.  1.  1.  0.  1.  2.  1.\n",
            "   2.  2.]\n",
            " [14. 13. 13. 12.  8. 12. 13. 12. 13. 11.  9.  5.  2.  2.  1.  0.  3.  2.\n",
            "   1.  3.]\n",
            " [11. 10. 10.  9.  7. 11. 12. 11. 12. 10.  8.  6.  3.  1.  2.  3.  0.  1.\n",
            "   2.  2.]\n",
            " [12. 11. 11. 10.  8. 12. 13. 12. 13. 11.  9.  5.  2.  2.  1.  2.  1.  0.\n",
            "   1.  1.]\n",
            " [13. 12. 12. 11.  9. 13. 14. 13. 14. 12. 10.  6.  3.  3.  2.  1.  2.  1.\n",
            "   0.  2.]\n",
            " [11. 10. 10.  9.  9. 13. 14. 13. 14. 12. 10.  6.  3.  3.  2.  3.  2.  1.\n",
            "   2.  0.]]\n"
          ]
        }
      ]
    },
    {
      "cell_type": "code",
      "source": [
        "\n",
        "\n",
        "def assign_points(core, radius):\n",
        "  density_connected=[]\n",
        "  for i in range(len(points)):\n",
        "    #if (i!=core):    Only if the point itself is not counted, which is not the case in normal DBscan\n",
        "      if (dist[core, i]<=radius):\n",
        "        density_connected.append(i)\n",
        "  return density_connected"
      ],
      "metadata": {
        "id": "7bw3BFR2jbdE"
      },
      "execution_count": null,
      "outputs": []
    },
    {
      "cell_type": "code",
      "source": [
        "def rec2 (core, radius, minP, cluster):\n",
        "  points.at[core,'pas']=1\n",
        "  connect=assign_points(core, radius)\n",
        "  if (len(connect)>=minP): \n",
        "    points.at[core, 'type']='core'\n",
        "    for i in connect:\n",
        "      if (points.at[i, 'cluster']==0):\n",
        "        points.at[i, 'cluster']=cluster\n",
        "        if (len(assign_points(i, radius))<minP): points.at[i, 'type']='border'\n",
        "        if (points.pas[i])==0: rec2(i, radius, minP, cluster)\n",
        "    cluster=cluster+1\n",
        "  return cluster\n",
        "\n",
        "\n",
        "#cluster=cluster+1\n",
        "\n",
        "radius=1\n",
        "minP=3\n",
        "cluster=1\n",
        "for i in range(len(points)):\n",
        "      if (points.cluster[i]==0): \n",
        "        cluster = rec2(i, radius, minP, cluster)\n",
        "\n",
        "\n",
        "  #if ((len(connect)==0) and (points.type[core]==0)): \n",
        "  # print ('Assigning point',points.name[core], 'type 3')\n",
        "  # points.at[core, 'type']=3\n",
        "  #el\n",
        "    #else: \n",
        "  #  print ('Assigning point', points.name[core], 'non-core')\n",
        "  #  points.at[core, 'type']='not-core'"
      ],
      "metadata": {
        "id": "NN5mEyb4yvDr"
      },
      "execution_count": null,
      "outputs": []
    },
    {
      "cell_type": "code",
      "source": [
        "def tabular(df):\n",
        "  print (r'\\begin{tabular}{|c|c|c|c|c|}')\n",
        "  print (r'\\hline')\n",
        "  print (r'name & x & y &cluster & type \\\\')\n",
        "  print (r'\\hline')\n",
        "  for i in range(len(df)):\n",
        "    print (df.name.iloc[i], '&', df.x.iloc[i], '&', df.y.iloc[i], '&', df.cluster.iloc[i],'&',df['type'].iloc[i], r'\\\\')\n",
        "  print(r'\\hline')\n",
        "  print(r'\\end{tabular}')"
      ],
      "metadata": {
        "id": "bUYrpIOUvYm1"
      },
      "execution_count": null,
      "outputs": []
    },
    {
      "cell_type": "code",
      "source": [
        "points=points.drop(['pas'],1)\n",
        "points.head(20)"
      ],
      "metadata": {
        "colab": {
          "base_uri": "https://localhost:8080/",
          "height": 677
        },
        "id": "mgjEGKsAF2J1",
        "outputId": "30a23ebc-fd38-437f-d95b-d443371948f9"
      },
      "execution_count": null,
      "outputs": [
        {
          "output_type": "execute_result",
          "data": {
            "text/html": [
              "<div>\n",
              "<style scoped>\n",
              "    .dataframe tbody tr th:only-of-type {\n",
              "        vertical-align: middle;\n",
              "    }\n",
              "\n",
              "    .dataframe tbody tr th {\n",
              "        vertical-align: top;\n",
              "    }\n",
              "\n",
              "    .dataframe thead th {\n",
              "        text-align: right;\n",
              "    }\n",
              "</style>\n",
              "<table border=\"1\" class=\"dataframe\">\n",
              "  <thead>\n",
              "    <tr style=\"text-align: right;\">\n",
              "      <th></th>\n",
              "      <th>name</th>\n",
              "      <th>x</th>\n",
              "      <th>y</th>\n",
              "      <th>cluster</th>\n",
              "      <th>type</th>\n",
              "    </tr>\n",
              "  </thead>\n",
              "  <tbody>\n",
              "    <tr>\n",
              "      <th>0</th>\n",
              "      <td>A</td>\n",
              "      <td>1</td>\n",
              "      <td>1</td>\n",
              "      <td>1</td>\n",
              "      <td>core</td>\n",
              "    </tr>\n",
              "    <tr>\n",
              "      <th>1</th>\n",
              "      <td>B</td>\n",
              "      <td>2</td>\n",
              "      <td>1</td>\n",
              "      <td>1</td>\n",
              "      <td>core</td>\n",
              "    </tr>\n",
              "    <tr>\n",
              "      <th>2</th>\n",
              "      <td>C</td>\n",
              "      <td>1</td>\n",
              "      <td>2</td>\n",
              "      <td>1</td>\n",
              "      <td>core</td>\n",
              "    </tr>\n",
              "    <tr>\n",
              "      <th>3</th>\n",
              "      <td>D</td>\n",
              "      <td>2</td>\n",
              "      <td>2</td>\n",
              "      <td>1</td>\n",
              "      <td>core</td>\n",
              "    </tr>\n",
              "    <tr>\n",
              "      <th>4</th>\n",
              "      <td>E</td>\n",
              "      <td>3</td>\n",
              "      <td>5</td>\n",
              "      <td>0</td>\n",
              "      <td>noise</td>\n",
              "    </tr>\n",
              "    <tr>\n",
              "      <th>5</th>\n",
              "      <td>F</td>\n",
              "      <td>3</td>\n",
              "      <td>9</td>\n",
              "      <td>2</td>\n",
              "      <td>border</td>\n",
              "    </tr>\n",
              "    <tr>\n",
              "      <th>6</th>\n",
              "      <td>G</td>\n",
              "      <td>3</td>\n",
              "      <td>10</td>\n",
              "      <td>2</td>\n",
              "      <td>core</td>\n",
              "    </tr>\n",
              "    <tr>\n",
              "      <th>7</th>\n",
              "      <td>H</td>\n",
              "      <td>4</td>\n",
              "      <td>10</td>\n",
              "      <td>2</td>\n",
              "      <td>core</td>\n",
              "    </tr>\n",
              "    <tr>\n",
              "      <th>8</th>\n",
              "      <td>I</td>\n",
              "      <td>4</td>\n",
              "      <td>11</td>\n",
              "      <td>2</td>\n",
              "      <td>border</td>\n",
              "    </tr>\n",
              "    <tr>\n",
              "      <th>9</th>\n",
              "      <td>J</td>\n",
              "      <td>5</td>\n",
              "      <td>10</td>\n",
              "      <td>2</td>\n",
              "      <td>border</td>\n",
              "    </tr>\n",
              "    <tr>\n",
              "      <th>10</th>\n",
              "      <td>K</td>\n",
              "      <td>7</td>\n",
              "      <td>10</td>\n",
              "      <td>0</td>\n",
              "      <td>noise</td>\n",
              "    </tr>\n",
              "    <tr>\n",
              "      <th>11</th>\n",
              "      <td>L</td>\n",
              "      <td>10</td>\n",
              "      <td>9</td>\n",
              "      <td>0</td>\n",
              "      <td>noise</td>\n",
              "    </tr>\n",
              "    <tr>\n",
              "      <th>12</th>\n",
              "      <td>M</td>\n",
              "      <td>10</td>\n",
              "      <td>6</td>\n",
              "      <td>3</td>\n",
              "      <td>border</td>\n",
              "    </tr>\n",
              "    <tr>\n",
              "      <th>13</th>\n",
              "      <td>N</td>\n",
              "      <td>9</td>\n",
              "      <td>5</td>\n",
              "      <td>3</td>\n",
              "      <td>core</td>\n",
              "    </tr>\n",
              "    <tr>\n",
              "      <th>14</th>\n",
              "      <td>O</td>\n",
              "      <td>10</td>\n",
              "      <td>5</td>\n",
              "      <td>3</td>\n",
              "      <td>core</td>\n",
              "    </tr>\n",
              "    <tr>\n",
              "      <th>15</th>\n",
              "      <td>P</td>\n",
              "      <td>11</td>\n",
              "      <td>5</td>\n",
              "      <td>3</td>\n",
              "      <td>core</td>\n",
              "    </tr>\n",
              "    <tr>\n",
              "      <th>16</th>\n",
              "      <td>Q</td>\n",
              "      <td>9</td>\n",
              "      <td>4</td>\n",
              "      <td>3</td>\n",
              "      <td>core</td>\n",
              "    </tr>\n",
              "    <tr>\n",
              "      <th>17</th>\n",
              "      <td>R</td>\n",
              "      <td>10</td>\n",
              "      <td>4</td>\n",
              "      <td>3</td>\n",
              "      <td>core</td>\n",
              "    </tr>\n",
              "    <tr>\n",
              "      <th>18</th>\n",
              "      <td>S</td>\n",
              "      <td>11</td>\n",
              "      <td>4</td>\n",
              "      <td>3</td>\n",
              "      <td>core</td>\n",
              "    </tr>\n",
              "    <tr>\n",
              "      <th>19</th>\n",
              "      <td>T</td>\n",
              "      <td>10</td>\n",
              "      <td>3</td>\n",
              "      <td>3</td>\n",
              "      <td>border</td>\n",
              "    </tr>\n",
              "  </tbody>\n",
              "</table>\n",
              "</div>"
            ],
            "text/plain": [
              "   name   x   y  cluster    type\n",
              "0     A   1   1        1    core\n",
              "1     B   2   1        1    core\n",
              "2     C   1   2        1    core\n",
              "3     D   2   2        1    core\n",
              "4     E   3   5        0   noise\n",
              "5     F   3   9        2  border\n",
              "6     G   3  10        2    core\n",
              "7     H   4  10        2    core\n",
              "8     I   4  11        2  border\n",
              "9     J   5  10        2  border\n",
              "10    K   7  10        0   noise\n",
              "11    L  10   9        0   noise\n",
              "12    M  10   6        3  border\n",
              "13    N   9   5        3    core\n",
              "14    O  10   5        3    core\n",
              "15    P  11   5        3    core\n",
              "16    Q   9   4        3    core\n",
              "17    R  10   4        3    core\n",
              "18    S  11   4        3    core\n",
              "19    T  10   3        3  border"
            ]
          },
          "metadata": {},
          "execution_count": 286
        }
      ]
    },
    {
      "cell_type": "code",
      "source": [
        "tabular(points)"
      ],
      "metadata": {
        "id": "vx8Gn8QulARA",
        "colab": {
          "base_uri": "https://localhost:8080/"
        },
        "outputId": "146d257d-8fbf-48bf-c9a3-eb9e94c1bcf3"
      },
      "execution_count": null,
      "outputs": [
        {
          "output_type": "stream",
          "name": "stdout",
          "text": [
            "\\begin{tabular}{|c|c|c|c|c|}\n",
            "\\hline\n",
            "name & x & y &cluster & type \\\\\n",
            "\\hline\n",
            "A & 1 & 1 & 1 & core \\\\\n",
            "B & 2 & 1 & 1 & core \\\\\n",
            "C & 1 & 2 & 1 & core \\\\\n",
            "D & 2 & 2 & 1 & core \\\\\n",
            "E & 3 & 5 & 0 & noise \\\\\n",
            "F & 3 & 9 & 2 & border \\\\\n",
            "G & 3 & 10 & 2 & core \\\\\n",
            "H & 4 & 10 & 2 & core \\\\\n",
            "I & 4 & 11 & 2 & border \\\\\n",
            "J & 5 & 10 & 2 & border \\\\\n",
            "K & 7 & 10 & 0 & noise \\\\\n",
            "L & 10 & 9 & 0 & noise \\\\\n",
            "M & 10 & 6 & 3 & border \\\\\n",
            "N & 9 & 5 & 3 & core \\\\\n",
            "O & 10 & 5 & 3 & core \\\\\n",
            "P & 11 & 5 & 3 & core \\\\\n",
            "Q & 9 & 4 & 3 & core \\\\\n",
            "R & 10 & 4 & 3 & core \\\\\n",
            "S & 11 & 4 & 3 & core \\\\\n",
            "T & 10 & 3 & 3 & border \\\\\n",
            "\\hline\n",
            "\\end{tabular}\n"
          ]
        }
      ]
    },
    {
      "cell_type": "code",
      "source": [
        ""
      ],
      "metadata": {
        "id": "ovK4dyksBeuX"
      },
      "execution_count": null,
      "outputs": []
    },
    {
      "cell_type": "code",
      "source": [
        ""
      ],
      "metadata": {
        "id": "GQ_IG3L6xLKu"
      },
      "execution_count": null,
      "outputs": []
    },
    {
      "cell_type": "code",
      "source": [
        "\n"
      ],
      "metadata": {
        "id": "hlmkzUL2v4h0"
      },
      "execution_count": null,
      "outputs": []
    },
    {
      "cell_type": "code",
      "source": [
        ""
      ],
      "metadata": {
        "id": "L4qMSuLVXX_m"
      },
      "execution_count": null,
      "outputs": []
    }
  ]
}